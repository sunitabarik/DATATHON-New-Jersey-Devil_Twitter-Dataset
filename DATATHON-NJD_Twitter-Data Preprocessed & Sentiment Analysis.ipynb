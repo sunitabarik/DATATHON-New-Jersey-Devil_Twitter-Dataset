{
 "cells": [
  {
   "cell_type": "code",
   "execution_count": 1,
   "id": "42d13ca9",
   "metadata": {},
   "outputs": [],
   "source": [
    "import pandas as pd\n",
    "import numpy as np\n",
    "import matplotlib.pyplot as plt\n",
    "import seaborn as sns"
   ]
  },
  {
   "cell_type": "code",
   "execution_count": 2,
   "id": "3204faec",
   "metadata": {},
   "outputs": [
    {
     "data": {
      "text/html": [
       "<div>\n",
       "<style scoped>\n",
       "    .dataframe tbody tr th:only-of-type {\n",
       "        vertical-align: middle;\n",
       "    }\n",
       "\n",
       "    .dataframe tbody tr th {\n",
       "        vertical-align: top;\n",
       "    }\n",
       "\n",
       "    .dataframe thead th {\n",
       "        text-align: right;\n",
       "    }\n",
       "</style>\n",
       "<table border=\"1\" class=\"dataframe\">\n",
       "  <thead>\n",
       "    <tr style=\"text-align: right;\">\n",
       "      <th></th>\n",
       "      <th>CONTENT_TYPE</th>\n",
       "      <th>DATE</th>\n",
       "      <th>TIMESTAMP</th>\n",
       "      <th>BRAND</th>\n",
       "      <th>IMPACT</th>\n",
       "      <th>ENGAGEMENT</th>\n",
       "      <th>CONTENT_HASHTAGS</th>\n",
       "      <th>CHANNEL_INFO_CHANNEL</th>\n",
       "      <th>CHANNEL_INFO_TYPE</th>\n",
       "      <th>CONTENT_TEXT</th>\n",
       "      <th>CONTENT_LINK_TITLE</th>\n",
       "      <th>CONTENT_RETWEET_COUNT</th>\n",
       "      <th>CONTENT_FAVORITE_COUNT</th>\n",
       "      <th>GAMERESULTS</th>\n",
       "    </tr>\n",
       "  </thead>\n",
       "  <tbody>\n",
       "    <tr>\n",
       "      <th>0</th>\n",
       "      <td>tweet</td>\n",
       "      <td>2022-01-31</td>\n",
       "      <td>2022-01-31 09:51:47</td>\n",
       "      <td>172721</td>\n",
       "      <td>0.4970</td>\n",
       "      <td>151</td>\n",
       "      <td>NaN</td>\n",
       "      <td>twitter</td>\n",
       "      <td>photo</td>\n",
       "      <td>Lets close this trip out on a high.\\n\\nâ°: 7:...</td>\n",
       "      <td>NaN</td>\n",
       "      <td>10</td>\n",
       "      <td>141</td>\n",
       "      <td>LOSS</td>\n",
       "    </tr>\n",
       "    <tr>\n",
       "      <th>1</th>\n",
       "      <td>tweet</td>\n",
       "      <td>2022-01-31</td>\n",
       "      <td>2022-01-31 10:18:00</td>\n",
       "      <td>172721</td>\n",
       "      <td>1.8650</td>\n",
       "      <td>632</td>\n",
       "      <td>NEWS</td>\n",
       "      <td>twitter</td>\n",
       "      <td>link</td>\n",
       "      <td>#NEWS: Due to the recent passing of his father...</td>\n",
       "      <td>Ruff to Miss Two Games with Passing of his Fat...</td>\n",
       "      <td>61</td>\n",
       "      <td>571</td>\n",
       "      <td>LOSS</td>\n",
       "    </tr>\n",
       "    <tr>\n",
       "      <th>2</th>\n",
       "      <td>tweet</td>\n",
       "      <td>2022-01-31</td>\n",
       "      <td>2022-01-31 12:07:05</td>\n",
       "      <td>172721</td>\n",
       "      <td>0.6897</td>\n",
       "      <td>231</td>\n",
       "      <td>NaN</td>\n",
       "      <td>twitter</td>\n",
       "      <td>photo</td>\n",
       "      <td>Putting in work up north. https://t.co/yoYZGN3xeO</td>\n",
       "      <td>NaN</td>\n",
       "      <td>10</td>\n",
       "      <td>221</td>\n",
       "      <td>LOSS</td>\n",
       "    </tr>\n",
       "  </tbody>\n",
       "</table>\n",
       "</div>"
      ],
      "text/plain": [
       "  CONTENT_TYPE       DATE           TIMESTAMP   BRAND  IMPACT  ENGAGEMENT  \\\n",
       "0        tweet 2022-01-31 2022-01-31 09:51:47  172721  0.4970         151   \n",
       "1        tweet 2022-01-31 2022-01-31 10:18:00  172721  1.8650         632   \n",
       "2        tweet 2022-01-31 2022-01-31 12:07:05  172721  0.6897         231   \n",
       "\n",
       "  CONTENT_HASHTAGS CHANNEL_INFO_CHANNEL CHANNEL_INFO_TYPE  \\\n",
       "0              NaN              twitter             photo   \n",
       "1             NEWS              twitter              link   \n",
       "2              NaN              twitter             photo   \n",
       "\n",
       "                                        CONTENT_TEXT  \\\n",
       "0  Lets close this trip out on a high.\\n\\nâ°: 7:...   \n",
       "1  #NEWS: Due to the recent passing of his father...   \n",
       "2  Putting in work up north. https://t.co/yoYZGN3xeO   \n",
       "\n",
       "                                  CONTENT_LINK_TITLE  CONTENT_RETWEET_COUNT  \\\n",
       "0                                                NaN                     10   \n",
       "1  Ruff to Miss Two Games with Passing of his Fat...                     61   \n",
       "2                                                NaN                     10   \n",
       "\n",
       "   CONTENT_FAVORITE_COUNT GAMERESULTS  \n",
       "0                     141        LOSS  \n",
       "1                     571        LOSS  \n",
       "2                     221        LOSS  "
      ]
     },
     "execution_count": 2,
     "metadata": {},
     "output_type": "execute_result"
    }
   ],
   "source": [
    "df = pd.read_excel('NJD_TWITTER_DATATHON_clean.xlsx', index_col=None, header=[0])\n",
    "df.head(3)"
   ]
  },
  {
   "cell_type": "code",
   "execution_count": 3,
   "id": "73b542f1",
   "metadata": {},
   "outputs": [
    {
     "name": "stdout",
     "output_type": "stream",
     "text": [
      "<class 'pandas.core.frame.DataFrame'>\n",
      "RangeIndex: 17270 entries, 0 to 17269\n",
      "Data columns (total 14 columns):\n",
      " #   Column                  Non-Null Count  Dtype         \n",
      "---  ------                  --------------  -----         \n",
      " 0   CONTENT_TYPE            17270 non-null  object        \n",
      " 1   DATE                    17270 non-null  datetime64[ns]\n",
      " 2   TIMESTAMP               17270 non-null  datetime64[ns]\n",
      " 3   BRAND                   17270 non-null  int64         \n",
      " 4   IMPACT                  17270 non-null  float64       \n",
      " 5   ENGAGEMENT              17270 non-null  int64         \n",
      " 6   CONTENT_HASHTAGS        10174 non-null  object        \n",
      " 7   CHANNEL_INFO_CHANNEL    17270 non-null  object        \n",
      " 8   CHANNEL_INFO_TYPE       17270 non-null  object        \n",
      " 9   CONTENT_TEXT            15902 non-null  object        \n",
      " 10  CONTENT_LINK_TITLE      4380 non-null   object        \n",
      " 11  CONTENT_RETWEET_COUNT   17270 non-null  int64         \n",
      " 12  CONTENT_FAVORITE_COUNT  17270 non-null  int64         \n",
      " 13  GAMERESULTS             17270 non-null  object        \n",
      "dtypes: datetime64[ns](2), float64(1), int64(4), object(7)\n",
      "memory usage: 1.8+ MB\n"
     ]
    }
   ],
   "source": [
    "df.info()"
   ]
  },
  {
   "cell_type": "code",
   "execution_count": 4,
   "id": "5b68751a",
   "metadata": {},
   "outputs": [
    {
     "data": {
      "text/plain": [
       "tweet    17270\n",
       "Name: CONTENT_TYPE, dtype: int64"
      ]
     },
     "execution_count": 4,
     "metadata": {},
     "output_type": "execute_result"
    }
   ],
   "source": [
    "#drop : single value\n",
    "df.CONTENT_TYPE.value_counts()"
   ]
  },
  {
   "cell_type": "code",
   "execution_count": 5,
   "id": "3758a25d",
   "metadata": {},
   "outputs": [
    {
     "data": {
      "text/plain": [
       "172721    1.0\n",
       "Name: BRAND, dtype: float64"
      ]
     },
     "execution_count": 5,
     "metadata": {},
     "output_type": "execute_result"
    }
   ],
   "source": [
    "##drop : single value\n",
    "df.BRAND.value_counts(dropna=False,normalize = True)"
   ]
  },
  {
   "cell_type": "code",
   "execution_count": 6,
   "id": "d2e21c57",
   "metadata": {},
   "outputs": [
    {
     "data": {
      "text/plain": [
       "count    17270.000000\n",
       "mean         0.893296\n",
       "std          1.859127\n",
       "min          0.000000\n",
       "25%          0.236400\n",
       "50%          0.448300\n",
       "75%          0.927400\n",
       "max        107.860900\n",
       "Name: IMPACT, dtype: float64"
      ]
     },
     "execution_count": 6,
     "metadata": {},
     "output_type": "execute_result"
    }
   ],
   "source": [
    "df.IMPACT.describe()"
   ]
  },
  {
   "cell_type": "code",
   "execution_count": 7,
   "id": "d80a19b6",
   "metadata": {},
   "outputs": [
    {
     "data": {
      "text/plain": [
       "<AxesSubplot:>"
      ]
     },
     "execution_count": 7,
     "metadata": {},
     "output_type": "execute_result"
    },
    {
     "data": {
      "image/png": "[encoded data removed]",
      "text/plain": [
       "<Figure size 432x288 with 1 Axes>"
      ]
     },
     "metadata": {
      "needs_background": "light"
     },
     "output_type": "display_data"
    }
   ],
   "source": [
    "mydata = pd.DataFrame()\n",
    "mydata[\"bins\"] = pd.cut(df.IMPACT, [0,2,3,5,10,108])\n",
    "mydata[\"bins\"].value_counts().plot.bar()"
   ]
  },
  {
   "cell_type": "code",
   "execution_count": 8,
   "id": "08e20326",
   "metadata": {},
   "outputs": [
    {
     "data": {
      "text/plain": [
       "count    17270.000000\n",
       "mean         0.893296\n",
       "std          1.859127\n",
       "min          0.000000\n",
       "25%          0.236400\n",
       "50%          0.448300\n",
       "75%          0.927400\n",
       "max        107.860900\n",
       "Name: IMPACT, dtype: float64"
      ]
     },
     "execution_count": 8,
     "metadata": {},
     "output_type": "execute_result"
    }
   ],
   "source": [
    "df.IMPACT.describe()"
   ]
  },
  {
   "cell_type": "code",
   "execution_count": 9,
   "id": "b71fa1fb",
   "metadata": {},
   "outputs": [
    {
     "data": {
      "text/plain": [
       "count    17270.000000\n",
       "mean       276.467169\n",
       "std        605.467163\n",
       "min          0.000000\n",
       "25%         64.000000\n",
       "50%        127.000000\n",
       "75%        279.000000\n",
       "max      27010.000000\n",
       "Name: ENGAGEMENT, dtype: float64"
      ]
     },
     "execution_count": 9,
     "metadata": {},
     "output_type": "execute_result"
    }
   ],
   "source": [
    "df.ENGAGEMENT.describe()"
   ]
  },
  {
   "cell_type": "code",
   "execution_count": 10,
   "id": "f9522eb3",
   "metadata": {},
   "outputs": [
    {
     "data": {
      "text/plain": [
       "<AxesSubplot:>"
      ]
     },
     "execution_count": 10,
     "metadata": {},
     "output_type": "execute_result"
    },
    {
     "data": {
      "image/png": "[encoded data removed]",
      "text/plain": [
       "<Figure size 432x288 with 1 Axes>"
      ]
     },
     "metadata": {
      "needs_background": "light"
     },
     "output_type": "display_data"
    }
   ],
   "source": [
    "mydata[\"bins\"] = pd.cut(df.ENGAGEMENT, [0,100,200,300,400,500,600,700,27011])\n",
    "mydata[\"bins\"].value_counts().plot.bar()"
   ]
  },
  {
   "cell_type": "code",
   "execution_count": 11,
   "id": "6c4e2c9b",
   "metadata": {
    "scrolled": true
   },
   "outputs": [
    {
     "name": "stdout",
     "output_type": "stream",
     "text": [
      "<class 'pandas.core.frame.DataFrame'>\n",
      "RangeIndex: 17270 entries, 0 to 17269\n",
      "Data columns (total 14 columns):\n",
      " #   Column                  Non-Null Count  Dtype         \n",
      "---  ------                  --------------  -----         \n",
      " 0   CONTENT_TYPE            17270 non-null  object        \n",
      " 1   DATE                    17270 non-null  datetime64[ns]\n",
      " 2   TIMESTAMP               17270 non-null  datetime64[ns]\n",
      " 3   BRAND                   17270 non-null  int64         \n",
      " 4   IMPACT                  17270 non-null  float64       \n",
      " 5   ENGAGEMENT              17270 non-null  int64         \n",
      " 6   CONTENT_HASHTAGS        10174 non-null  object        \n",
      " 7   CHANNEL_INFO_CHANNEL    17270 non-null  object        \n",
      " 8   CHANNEL_INFO_TYPE       17270 non-null  object        \n",
      " 9   CONTENT_TEXT            15902 non-null  object        \n",
      " 10  CONTENT_LINK_TITLE      4380 non-null   object        \n",
      " 11  CONTENT_RETWEET_COUNT   17270 non-null  int64         \n",
      " 12  CONTENT_FAVORITE_COUNT  17270 non-null  int64         \n",
      " 13  GAMERESULTS             17270 non-null  object        \n",
      "dtypes: datetime64[ns](2), float64(1), int64(4), object(7)\n",
      "memory usage: 1.8+ MB\n"
     ]
    }
   ],
   "source": [
    "df.info()"
   ]
  },
  {
   "cell_type": "code",
   "execution_count": 12,
   "id": "425de765",
   "metadata": {},
   "outputs": [
    {
     "data": {
      "text/plain": [
       "NaN                         0.410886\n",
       "NJDevils                    0.155646\n",
       "WeAreTheOnes NJDevils       0.054951\n",
       "WeAreOne NJDevils           0.018703\n",
       "NEWS                        0.009612\n",
       "                              ...   \n",
       "WeAreTheOnes NJDvsBUF       0.000058\n",
       "OutOfOffice                 0.000058\n",
       "NJDevils ThreeThings        0.000058\n",
       "SpeakoftheDeivls            0.000058\n",
       "NJDevils NJDAllAccessPod    0.000058\n",
       "Name: CONTENT_HASHTAGS, Length: 1314, dtype: float64"
      ]
     },
     "execution_count": 12,
     "metadata": {},
     "output_type": "execute_result"
    }
   ],
   "source": [
    "#41 % misisng values\n",
    "df.CONTENT_HASHTAGS.value_counts(dropna=False,normalize = True)        "
   ]
  },
  {
   "cell_type": "code",
   "execution_count": 13,
   "id": "cd7caa05",
   "metadata": {},
   "outputs": [
    {
     "data": {
      "text/plain": [
       "twitter    1.0\n",
       "Name: CHANNEL_INFO_CHANNEL, dtype: float64"
      ]
     },
     "execution_count": 13,
     "metadata": {},
     "output_type": "execute_result"
    }
   ],
   "source": [
    "#drop\n",
    "df.CHANNEL_INFO_CHANNEL.value_counts(dropna=False,normalize = True)  "
   ]
  },
  {
   "cell_type": "code",
   "execution_count": 14,
   "id": "9dcb6fb4",
   "metadata": {},
   "outputs": [
    {
     "data": {
      "text/plain": [
       "photo             0.663289\n",
       "link              0.198089\n",
       "text only         0.099710\n",
       "photo and link    0.038911\n",
       "Name: CHANNEL_INFO_TYPE, dtype: float64"
      ]
     },
     "execution_count": 14,
     "metadata": {},
     "output_type": "execute_result"
    }
   ],
   "source": [
    "df.CHANNEL_INFO_TYPE.value_counts(dropna=False,normalize = True) "
   ]
  },
  {
   "cell_type": "code",
   "execution_count": 15,
   "id": "e64869b5",
   "metadata": {},
   "outputs": [
    {
     "data": {
      "text/plain": [
       "NaN                                                                    0.746381\n",
       "New Jersey Devils on Twitter                                           0.031268\n",
       "YouTube                                                                0.007354\n",
       "Single-Game Tickets / Theme Nights / Promotions                        0.004517\n",
       "Health Care Heroes | RWJBarnabas Health                                0.004169\n",
       "                                                                         ...   \n",
       "FEATURE: Thompson Anxious, Excited Ahead of NHL Debut                  0.000058\n",
       "BLOG: Hischier \"A Lot Closer To Playing\"                               0.000058\n",
       "PRE-RAW | Lindy Ruff 4.6.21                                            0.000058\n",
       "RELEASE: Devils and RWJBarnabas Health to Host Hockey Fights Cancer    0.000058\n",
       "Brodeur, O'Ree, Bettman lead Hockey Hall of Fame Class of 2018         0.000058\n",
       "Name: CONTENT_LINK_TITLE, Length: 2448, dtype: float64"
      ]
     },
     "execution_count": 15,
     "metadata": {},
     "output_type": "execute_result"
    }
   ],
   "source": [
    "df.CONTENT_LINK_TITLE.value_counts(dropna=False,normalize = True)"
   ]
  },
  {
   "cell_type": "code",
   "execution_count": 16,
   "id": "0eca964b",
   "metadata": {},
   "outputs": [
    {
     "data": {
      "text/plain": [
       "NaN                         0.410886\n",
       "NJDevils                    0.155646\n",
       "WeAreTheOnes NJDevils       0.054951\n",
       "WeAreOne NJDevils           0.018703\n",
       "NEWS                        0.009612\n",
       "                              ...   \n",
       "WeAreTheOnes NJDvsBUF       0.000058\n",
       "OutOfOffice                 0.000058\n",
       "NJDevils ThreeThings        0.000058\n",
       "SpeakoftheDeivls            0.000058\n",
       "NJDevils NJDAllAccessPod    0.000058\n",
       "Name: CONTENT_HASHTAGS, Length: 1314, dtype: float64"
      ]
     },
     "execution_count": 16,
     "metadata": {},
     "output_type": "execute_result"
    }
   ],
   "source": [
    "df.CONTENT_HASHTAGS.value_counts(dropna=False,normalize = True)    "
   ]
  },
  {
   "cell_type": "code",
   "execution_count": 17,
   "id": "1b4b3316",
   "metadata": {},
   "outputs": [
    {
     "data": {
      "text/plain": [
       "NaN                                                                                                                                                                                                                   0.079213\n",
       "2-0, them.                                                                                                                                                                                                            0.000463\n",
       "Tie game.                                                                                                                                                                                                             0.000232\n",
       "You good?                                                                                                                                                                                                             0.000232\n",
       "PAIN.                                                                                                                                                                                                                 0.000174\n",
       "                                                                                                                                                                                                                        ...   \n",
       "\"The last couple of games have been a lot better recently. There is good communication between us and the staff.\"\\n\\nHear from Nate Bastian after practice today.\\n\\n#NJDevils | @UnibetUS https://t.co/N7m49LPGod    0.000058\n",
       "Hey, puck: https://t.co/zdB5NTbTjU                                                                                                                                                                                    0.000058\n",
       "Nah.\\n\\n-Blackwood, probably. https://t.co/FyvkjeZnrx                                                                                                                                                                 0.000058\n",
       "Buffalo got that lethal Zacha-Hischier-Bratt combo tonight.\\n\\nðŸ”Šâ¬†ï¸ https://t.co/JW2VDDjlPE                                                                                                                     0.000058\n",
       "Last time we were in Pittsburgh, Stefan Noesen lit the lamp with a third period GWG presented by @IBEW Local 164! #TBT https://t.co/iJfaag74o6                                                                        0.000058\n",
       "Name: CONTENT_TEXT, Length: 15819, dtype: float64"
      ]
     },
     "execution_count": 17,
     "metadata": {},
     "output_type": "execute_result"
    }
   ],
   "source": [
    "df.CONTENT_TEXT.value_counts(dropna=False,normalize = True)         "
   ]
  },
  {
   "cell_type": "code",
   "execution_count": 18,
   "id": "6e0fcb37",
   "metadata": {
    "scrolled": true
   },
   "outputs": [
    {
     "data": {
      "text/plain": [
       "<AxesSubplot:>"
      ]
     },
     "execution_count": 18,
     "metadata": {},
     "output_type": "execute_result"
    },
    {
     "data": {
      "image/png": "[encoded data removed]",
      "text/plain": [
       "<Figure size 432x288 with 1 Axes>"
      ]
     },
     "metadata": {
      "needs_background": "light"
     },
     "output_type": "display_data"
    }
   ],
   "source": [
    "mydata[\"bins\"] = pd.cut(df.CONTENT_RETWEET_COUNT, [0,10,20,30,50,100,200,300,400,500])\n",
    "mydata[\"bins\"].value_counts().plot.bar()\n",
    "#        17270 non-null  int64         \n",
    "#  12    17270 non-null  int64 "
   ]
  },
  {
   "cell_type": "code",
   "execution_count": 19,
   "id": "b9b79fbe",
   "metadata": {},
   "outputs": [
    {
     "data": {
      "text/plain": [
       "count    17270.000000\n",
       "mean       246.746323\n",
       "std        533.188265\n",
       "min          0.000000\n",
       "25%         58.000000\n",
       "50%        115.000000\n",
       "75%        252.000000\n",
       "max      23602.000000\n",
       "Name: CONTENT_FAVORITE_COUNT, dtype: float64"
      ]
     },
     "execution_count": 19,
     "metadata": {},
     "output_type": "execute_result"
    }
   ],
   "source": [
    "df.CONTENT_FAVORITE_COUNT.describe()"
   ]
  },
  {
   "cell_type": "code",
   "execution_count": 20,
   "id": "c0ca92ae",
   "metadata": {},
   "outputs": [
    {
     "data": {
      "text/plain": [
       "<AxesSubplot:>"
      ]
     },
     "execution_count": 20,
     "metadata": {},
     "output_type": "execute_result"
    },
    {
     "data": {
      "image/png": "[encoded data removed]",
      "text/plain": [
       "<Figure size 432x288 with 1 Axes>"
      ]
     },
     "metadata": {
      "needs_background": "light"
     },
     "output_type": "display_data"
    }
   ],
   "source": [
    "mydata[\"bins\"] = pd.cut(df.CONTENT_FAVORITE_COUNT, [0,50,100,200,300,400,500,23603])\n",
    "mydata[\"bins\"].value_counts().plot.bar()"
   ]
  },
  {
   "cell_type": "code",
   "execution_count": 21,
   "id": "3574b4dc",
   "metadata": {},
   "outputs": [
    {
     "data": {
      "text/plain": [
       "NO GAME    11640\n",
       "LOSS        3370\n",
       "WON         2260\n",
       "Name: GAMERESULTS, dtype: int64"
      ]
     },
     "execution_count": 21,
     "metadata": {},
     "output_type": "execute_result"
    }
   ],
   "source": [
    "df.GAMERESULTS.value_counts()"
   ]
  },
  {
   "cell_type": "code",
   "execution_count": 22,
   "id": "9559d527",
   "metadata": {},
   "outputs": [
    {
     "data": {
      "text/plain": [
       "CONTENT_TYPE                  1\n",
       "DATE                       1152\n",
       "TIMESTAMP                 17230\n",
       "BRAND                         1\n",
       "IMPACT                    10042\n",
       "ENGAGEMENT                 1583\n",
       "CONTENT_HASHTAGS           1313\n",
       "CHANNEL_INFO_CHANNEL          1\n",
       "CHANNEL_INFO_TYPE             4\n",
       "CONTENT_TEXT              15818\n",
       "CONTENT_LINK_TITLE         2447\n",
       "CONTENT_RETWEET_COUNT       426\n",
       "CONTENT_FAVORITE_COUNT     1470\n",
       "GAMERESULTS                   3\n",
       "dtype: int64"
      ]
     },
     "execution_count": 22,
     "metadata": {},
     "output_type": "execute_result"
    }
   ],
   "source": [
    "df.nunique()"
   ]
  },
  {
   "cell_type": "code",
   "execution_count": 23,
   "id": "b4bf1146",
   "metadata": {},
   "outputs": [],
   "source": [
    "del df['CONTENT_TYPE']  \n",
    "del df['BRAND']\n",
    "del df['CHANNEL_INFO_CHANNEL']"
   ]
  },
  {
   "cell_type": "code",
   "execution_count": 24,
   "id": "17d4c9a6",
   "metadata": {},
   "outputs": [
    {
     "data": {
      "text/plain": [
       "DATE                       1152\n",
       "TIMESTAMP                 17230\n",
       "IMPACT                    10042\n",
       "ENGAGEMENT                 1583\n",
       "CONTENT_HASHTAGS           1313\n",
       "CHANNEL_INFO_TYPE             4\n",
       "CONTENT_TEXT              15818\n",
       "CONTENT_LINK_TITLE         2447\n",
       "CONTENT_RETWEET_COUNT       426\n",
       "CONTENT_FAVORITE_COUNT     1470\n",
       "GAMERESULTS                   3\n",
       "dtype: int64"
      ]
     },
     "execution_count": 24,
     "metadata": {},
     "output_type": "execute_result"
    }
   ],
   "source": [
    "df.nunique()"
   ]
  },
  {
   "cell_type": "code",
   "execution_count": 25,
   "id": "2eaacda8",
   "metadata": {
    "scrolled": false
   },
   "outputs": [
    {
     "data": {
      "text/html": [
       "<div>\n",
       "<style scoped>\n",
       "    .dataframe tbody tr th:only-of-type {\n",
       "        vertical-align: middle;\n",
       "    }\n",
       "\n",
       "    .dataframe tbody tr th {\n",
       "        vertical-align: top;\n",
       "    }\n",
       "\n",
       "    .dataframe thead th {\n",
       "        text-align: right;\n",
       "    }\n",
       "</style>\n",
       "<table border=\"1\" class=\"dataframe\">\n",
       "  <thead>\n",
       "    <tr style=\"text-align: right;\">\n",
       "      <th></th>\n",
       "      <th>DATE</th>\n",
       "      <th>TIMESTAMP</th>\n",
       "      <th>IMPACT</th>\n",
       "      <th>ENGAGEMENT</th>\n",
       "      <th>CONTENT_HASHTAGS</th>\n",
       "      <th>CHANNEL_INFO_TYPE</th>\n",
       "      <th>CONTENT_TEXT</th>\n",
       "      <th>CONTENT_LINK_TITLE</th>\n",
       "      <th>CONTENT_RETWEET_COUNT</th>\n",
       "      <th>CONTENT_FAVORITE_COUNT</th>\n",
       "      <th>GAMERESULTS</th>\n",
       "    </tr>\n",
       "  </thead>\n",
       "  <tbody>\n",
       "    <tr>\n",
       "      <th>0</th>\n",
       "      <td>2022-01-31</td>\n",
       "      <td>2022-01-31 09:51:47</td>\n",
       "      <td>0.4970</td>\n",
       "      <td>151</td>\n",
       "      <td>NaN</td>\n",
       "      <td>photo</td>\n",
       "      <td>Lets close this trip out on a high.\\n\\nâ°: 7:...</td>\n",
       "      <td>NaN</td>\n",
       "      <td>10</td>\n",
       "      <td>141</td>\n",
       "      <td>LOSS</td>\n",
       "    </tr>\n",
       "    <tr>\n",
       "      <th>1</th>\n",
       "      <td>2022-01-31</td>\n",
       "      <td>2022-01-31 10:18:00</td>\n",
       "      <td>1.8650</td>\n",
       "      <td>632</td>\n",
       "      <td>NEWS</td>\n",
       "      <td>link</td>\n",
       "      <td>#NEWS: Due to the recent passing of his father...</td>\n",
       "      <td>Ruff to Miss Two Games with Passing of his Fat...</td>\n",
       "      <td>61</td>\n",
       "      <td>571</td>\n",
       "      <td>LOSS</td>\n",
       "    </tr>\n",
       "    <tr>\n",
       "      <th>2</th>\n",
       "      <td>2022-01-31</td>\n",
       "      <td>2022-01-31 12:07:05</td>\n",
       "      <td>0.6897</td>\n",
       "      <td>231</td>\n",
       "      <td>NaN</td>\n",
       "      <td>photo</td>\n",
       "      <td>Putting in work up north. https://t.co/yoYZGN3xeO</td>\n",
       "      <td>NaN</td>\n",
       "      <td>10</td>\n",
       "      <td>221</td>\n",
       "      <td>LOSS</td>\n",
       "    </tr>\n",
       "  </tbody>\n",
       "</table>\n",
       "</div>"
      ],
      "text/plain": [
       "        DATE           TIMESTAMP  IMPACT  ENGAGEMENT CONTENT_HASHTAGS  \\\n",
       "0 2022-01-31 2022-01-31 09:51:47  0.4970         151              NaN   \n",
       "1 2022-01-31 2022-01-31 10:18:00  1.8650         632             NEWS   \n",
       "2 2022-01-31 2022-01-31 12:07:05  0.6897         231              NaN   \n",
       "\n",
       "  CHANNEL_INFO_TYPE                                       CONTENT_TEXT  \\\n",
       "0             photo  Lets close this trip out on a high.\\n\\nâ°: 7:...   \n",
       "1              link  #NEWS: Due to the recent passing of his father...   \n",
       "2             photo  Putting in work up north. https://t.co/yoYZGN3xeO   \n",
       "\n",
       "                                  CONTENT_LINK_TITLE  CONTENT_RETWEET_COUNT  \\\n",
       "0                                                NaN                     10   \n",
       "1  Ruff to Miss Two Games with Passing of his Fat...                     61   \n",
       "2                                                NaN                     10   \n",
       "\n",
       "   CONTENT_FAVORITE_COUNT GAMERESULTS  \n",
       "0                     141        LOSS  \n",
       "1                     571        LOSS  \n",
       "2                     221        LOSS  "
      ]
     },
     "execution_count": 25,
     "metadata": {},
     "output_type": "execute_result"
    }
   ],
   "source": [
    "df.head(3)"
   ]
  },
  {
   "cell_type": "code",
   "execution_count": 26,
   "id": "338bdb74",
   "metadata": {
    "scrolled": true
   },
   "outputs": [
    {
     "data": {
      "text/plain": [
       "Text(0.5, 1.0, 'Most Frequently Occuring Words - Top 30')"
      ]
     },
     "execution_count": 26,
     "metadata": {},
     "output_type": "execute_result"
    },
    {
     "data": {
      "image/png": "[encoded data removed]",
      "text/plain": [
       "<Figure size 1080x504 with 1 Axes>"
      ]
     },
     "metadata": {
      "needs_background": "light"
     },
     "output_type": "display_data"
    }
   ],
   "source": [
    "from sklearn.feature_extraction.text import CountVectorizer\n",
    "\n",
    "df_rna = df[df['CONTENT_LINK_TITLE'].notna()]\n",
    "cv = CountVectorizer(stop_words = 'english')\n",
    "words = cv.fit_transform(df_rna.CONTENT_LINK_TITLE)\n",
    "\n",
    "sum_words = words.sum(axis=0)\n",
    "\n",
    "words_freq = [(word, sum_words[0, i]) for word, i in cv.vocabulary_.items()]\n",
    "words_freq = sorted(words_freq, key = lambda x: x[1], reverse = True)\n",
    "\n",
    "frequency = pd.DataFrame(words_freq, columns=['word', 'freq'])\n",
    "\n",
    "frequency.head(30).plot(x='word', y='freq', kind='bar', figsize=(15, 7), color = 'blue')\n",
    "plt.title(\"Most Frequently Occuring Words - Top 30\")"
   ]
  },
  {
   "cell_type": "code",
   "execution_count": 27,
   "id": "b0e31323",
   "metadata": {},
   "outputs": [],
   "source": [
    "#pip install wordcloud"
   ]
  },
  {
   "cell_type": "code",
   "execution_count": 28,
   "id": "31d29d39",
   "metadata": {},
   "outputs": [
    {
     "ename": "ModuleNotFoundError",
     "evalue": "No module named 'wordcloud'",
     "output_type": "error",
     "traceback": [
      "\u001b[1;31m---------------------------------------------------------------------------\u001b[0m",
      "\u001b[1;31mModuleNotFoundError\u001b[0m                       Traceback (most recent call last)",
      "\u001b[1;32m~\\AppData\\Local\\Temp/ipykernel_7164/820347859.py\u001b[0m in \u001b[0;36m<module>\u001b[1;34m\u001b[0m\n\u001b[1;32m----> 1\u001b[1;33m \u001b[1;32mfrom\u001b[0m \u001b[0mwordcloud\u001b[0m \u001b[1;32mimport\u001b[0m \u001b[0mWordCloud\u001b[0m\u001b[1;33m\u001b[0m\u001b[1;33m\u001b[0m\u001b[0m\n\u001b[0m\u001b[0;32m      2\u001b[0m \u001b[1;33m\u001b[0m\u001b[0m\n\u001b[0;32m      3\u001b[0m \u001b[0mwordcloud\u001b[0m \u001b[1;33m=\u001b[0m \u001b[0mWordCloud\u001b[0m\u001b[1;33m(\u001b[0m\u001b[0mbackground_color\u001b[0m \u001b[1;33m=\u001b[0m \u001b[1;34m'white'\u001b[0m\u001b[1;33m,\u001b[0m \u001b[0mwidth\u001b[0m \u001b[1;33m=\u001b[0m \u001b[1;36m1000\u001b[0m\u001b[1;33m,\u001b[0m \u001b[0mheight\u001b[0m \u001b[1;33m=\u001b[0m \u001b[1;36m1000\u001b[0m\u001b[1;33m)\u001b[0m\u001b[1;33m.\u001b[0m\u001b[0mgenerate_from_frequencies\u001b[0m\u001b[1;33m(\u001b[0m\u001b[0mdict\u001b[0m\u001b[1;33m(\u001b[0m\u001b[0mwords_freq\u001b[0m\u001b[1;33m)\u001b[0m\u001b[1;33m)\u001b[0m\u001b[1;33m\u001b[0m\u001b[1;33m\u001b[0m\u001b[0m\n\u001b[0;32m      4\u001b[0m \u001b[1;33m\u001b[0m\u001b[0m\n\u001b[0;32m      5\u001b[0m \u001b[0mplt\u001b[0m\u001b[1;33m.\u001b[0m\u001b[0mfigure\u001b[0m\u001b[1;33m(\u001b[0m\u001b[0mfigsize\u001b[0m\u001b[1;33m=\u001b[0m\u001b[1;33m(\u001b[0m\u001b[1;36m10\u001b[0m\u001b[1;33m,\u001b[0m\u001b[1;36m8\u001b[0m\u001b[1;33m)\u001b[0m\u001b[1;33m)\u001b[0m\u001b[1;33m\u001b[0m\u001b[1;33m\u001b[0m\u001b[0m\n",
      "\u001b[1;31mModuleNotFoundError\u001b[0m: No module named 'wordcloud'"
     ]
    }
   ],
   "source": [
    "from wordcloud import WordCloud\n",
    "\n",
    "wordcloud = WordCloud(background_color = 'white', width = 1000, height = 1000).generate_from_frequencies(dict(words_freq))\n",
    "\n",
    "plt.figure(figsize=(10,8))\n",
    "plt.imshow(wordcloud)\n",
    "plt.title(\"WordCloud - Vocabulary from CONTENT_LINK_TITLE\", fontsize = 22)"
   ]
  },
  {
   "cell_type": "code",
   "execution_count": null,
   "id": "98d38b34",
   "metadata": {
    "scrolled": false
   },
   "outputs": [],
   "source": [
    "normal_words =' '.join([text for text in df_rna['CONTENT_LINK_TITLE'][df_rna['GAMERESULTS'] == 'WON']])\n",
    "\n",
    "wordcloud = WordCloud(width=800, height=500, random_state = 0, max_font_size = 110).generate(normal_words)\n",
    "plt.figure(figsize=(10, 7))\n",
    "plt.imshow(wordcloud, interpolation=\"bilinear\")\n",
    "plt.axis('off')\n",
    "plt.title('CONTENT_LINK_TITLE - GAMERESULTS:WON')\n",
    "plt.show()"
   ]
  },
  {
   "cell_type": "code",
   "execution_count": null,
   "id": "c1424b37",
   "metadata": {},
   "outputs": [],
   "source": [
    "df['clean_CONTENT_TEXT'] = df['CONTENT_TEXT'].astype(str).apply(lambda x: x.encode('ascii', 'ignore').decode('ascii'))"
   ]
  },
  {
   "cell_type": "code",
   "execution_count": null,
   "id": "76fcc95d",
   "metadata": {},
   "outputs": [],
   "source": [
    "import nltk\n",
    "from sklearn.feature_extraction.text import CountVectorizer\n",
    "\n",
    "df_rna = df[df['clean_CONTENT_TEXT'].notna()]\n",
    "stopwords = nltk.corpus.stopwords.words('english')\n",
    "newStopWords = ['https','njdevils','nan']\n",
    "stopwords.extend(newStopWords)\n",
    "\n",
    "\n",
    "cv = CountVectorizer(stop_words = stopwords)\n",
    "words = cv.fit_transform(df_rna.clean_CONTENT_TEXT)\n",
    "\n",
    "sum_words = words.sum(axis=0)\n",
    "\n",
    "words_freq = [(word, sum_words[0, i]) for word, i in cv.vocabulary_.items()]\n",
    "words_freq = sorted(words_freq, key = lambda x: x[1], reverse = True)\n",
    "\n",
    "frequency = pd.DataFrame(words_freq, columns=['word', 'freq'])\n",
    "\n",
    "frequency.head(30).plot(x='word', y='freq', kind='bar', figsize=(15, 7), color = 'blue')\n",
    "plt.title(\"Most Frequently Occuring Words - Top 30\")"
   ]
  },
  {
   "cell_type": "code",
   "execution_count": null,
   "id": "368e26ec",
   "metadata": {},
   "outputs": [],
   "source": [
    "wordcloud = WordCloud(background_color = 'white', width = 1000, height = 1000).generate_from_frequencies(dict(words_freq))\n",
    "\n",
    "plt.figure(figsize=(10,8))\n",
    "plt.imshow(wordcloud)\n",
    "plt.title(\"WordCloud - Vocabulary from CONTENT_LINK_TITLE\", fontsize = 22)"
   ]
  },
  {
   "cell_type": "code",
   "execution_count": null,
   "id": "f24c2994",
   "metadata": {},
   "outputs": [],
   "source": [
    "normal_words =' '.join([text for text in df_rna['clean_CONTENT_TEXT'][df_rna['GAMERESULTS'] == 'WON']])\n",
    "\n",
    "wordcloud = WordCloud(width=800, height=500, random_state = 0, max_font_size = 110).generate(normal_words)\n",
    "plt.figure(figsize=(10, 7))\n",
    "plt.imshow(wordcloud, interpolation=\"bilinear\")\n",
    "plt.axis('off')\n",
    "plt.title('clean_CONTENT_TEXT - clean_CONTENT_TEXT:WON')\n",
    "plt.show()"
   ]
  },
  {
   "cell_type": "code",
   "execution_count": null,
   "id": "4bbbff2e",
   "metadata": {
    "scrolled": true
   },
   "outputs": [],
   "source": [
    "normal_words =' '.join([text for text in df_rna['clean_CONTENT_TEXT'][df_rna['GAMERESULTS'] == 'LOSS']])\n",
    "\n",
    "wordcloud = WordCloud(width=800, height=500, random_state = 0, max_font_size = 110).generate(normal_words)\n",
    "plt.figure(figsize=(10, 7))\n",
    "plt.imshow(wordcloud, interpolation=\"bilinear\")\n",
    "plt.axis('off')\n",
    "plt.title('clean_CONTENT_TEXT - clean_CONTENT_TEXT:LOSS')\n",
    "plt.show()"
   ]
  },
  {
   "cell_type": "code",
   "execution_count": null,
   "id": "4226fc8b",
   "metadata": {
    "scrolled": true
   },
   "outputs": [],
   "source": [
    "normal_words =' '.join([text for text in df_rna['clean_CONTENT_TEXT'][df_rna['GAMERESULTS'] == 'NO GAME']])\n",
    "\n",
    "wordcloud = WordCloud(width=800, height=500, random_state = 0, max_font_size = 110).generate(normal_words)\n",
    "plt.figure(figsize=(10, 7))\n",
    "plt.imshow(wordcloud, interpolation=\"bilinear\")\n",
    "plt.axis('off')\n",
    "plt.title('clean_CONTENT_TEXT - clean_CONTENT_TEXT:LOSS')\n",
    "plt.show()"
   ]
  },
  {
   "cell_type": "code",
   "execution_count": null,
   "id": "1216d508",
   "metadata": {},
   "outputs": [],
   "source": [
    "#pip install plotly"
   ]
  },
  {
   "cell_type": "code",
   "execution_count": null,
   "id": "6cf17f03",
   "metadata": {
    "scrolled": false
   },
   "outputs": [],
   "source": [
    "# Imports\n",
    "import matplotlib.pyplot as plt\n",
    "import seaborn as sns\n",
    "color = sns.color_palette()\n",
    "%matplotlib inline\n",
    "import plotly.offline as py\n",
    "py.init_notebook_mode(connected=True)\n",
    "import plotly.graph_objs as go\n",
    "import plotly.tools as tls\n",
    "import plotly.express as px\n",
    "# Product Scores\n",
    "fig = px.histogram(df, x=\"IMPACT\")\n",
    "fig.update_traces(marker_color=\"turquoise\",marker_line_color='rgb(8,48,107)',\n",
    "                  marker_line_width=1.5)\n",
    "fig.update_layout(title_text='IMPACT')\n",
    "fig.show()"
   ]
  },
  {
   "cell_type": "code",
   "execution_count": null,
   "id": "8f4015ad",
   "metadata": {
    "scrolled": true
   },
   "outputs": [],
   "source": [
    "import nltk\n",
    "from nltk.corpus import stopwords\n",
    "# Create stopword list:\n",
    "\n",
    "stopwords = nltk.corpus.stopwords.words('english')\n",
    "newStopWords = ['https','NJDevils','nan']\n",
    "stopwords.extend(newStopWords)\n",
    "textt = \" \".join(review for review in df_rna.clean_CONTENT_TEXT)\n",
    "wordcloud = WordCloud(width=800, height=500,stopwords=stopwords).generate(textt)\n",
    "plt.imshow(wordcloud, interpolation='bilinear')\n",
    "plt.axis(\"off\")\n",
    "plt.savefig('wordcloud11.png')\n",
    "plt.show()"
   ]
  },
  {
   "cell_type": "code",
   "execution_count": null,
   "id": "eb470318",
   "metadata": {},
   "outputs": [],
   "source": [
    "df.IMPACT.describe()"
   ]
  },
  {
   "cell_type": "code",
   "execution_count": null,
   "id": "bce072f2",
   "metadata": {},
   "outputs": [],
   "source": [
    "df.IMPACT.median()"
   ]
  },
  {
   "cell_type": "code",
   "execution_count": null,
   "id": "505a750f",
   "metadata": {},
   "outputs": [],
   "source": [
    "#TAKING IMPACT ABOVE 75% AS POSITIVE\n",
    "df['sentiment'] =  np.where(df['IMPACT'] >0.927400,1,0)"
   ]
  },
  {
   "cell_type": "code",
   "execution_count": null,
   "id": "b6e30bc7",
   "metadata": {},
   "outputs": [],
   "source": [
    "df['sentiment'].value_counts()"
   ]
  },
  {
   "cell_type": "code",
   "execution_count": null,
   "id": "260c04a2",
   "metadata": {},
   "outputs": [],
   "source": [
    "# split df - positive and negative sentiment:\n",
    "positive = df[df['sentiment'] == 1]\n",
    "negative = df[df['sentiment'] == 0]"
   ]
  },
  {
   "cell_type": "code",
   "execution_count": null,
   "id": "c6117058",
   "metadata": {
    "scrolled": false
   },
   "outputs": [],
   "source": [
    "import nltk\n",
    "from sklearn.feature_extraction.text import CountVectorizer\n",
    "\n",
    "df_rna = df[df['clean_CONTENT_TEXT'].notna()]\n",
    "stopwords = nltk.corpus.stopwords.words('english')\n",
    "newStopWords = ['https','njdevils','nan','co']\n",
    "stopwords.extend(newStopWords)\n",
    "\n",
    "\n",
    "cv = CountVectorizer(stop_words = stopwords)\n",
    "words = cv.fit_transform(positive.clean_CONTENT_TEXT)\n",
    "\n",
    "sum_words = words.sum(axis=0)\n",
    "\n",
    "words_freq = [(word, sum_words[0, i]) for word, i in cv.vocabulary_.items()]\n",
    "words_freq = sorted(words_freq, key = lambda x: x[1], reverse = True)\n",
    "\n",
    "frequency = pd.DataFrame(words_freq, columns=['word', 'freq'])\n",
    "\n",
    "frequency.head(10).plot(x='word', y='freq', kind='bar', figsize=(15, 7), color = 'blue')\n",
    "plt.title(\"Most Frequently Occuring positive sentiments Words - Top 10\")"
   ]
  },
  {
   "cell_type": "code",
   "execution_count": null,
   "id": "a471497d",
   "metadata": {},
   "outputs": [],
   "source": [
    "from sklearn.feature_extraction.text import CountVectorizer\n",
    "c_vec = CountVectorizer(stop_words=stopwords, ngram_range=(2,3))\n",
    "# matrix of ngrams\n",
    "ngrams = c_vec.fit_transform(positive.clean_CONTENT_TEXT)\n",
    "# count frequency of ngrams\n",
    "count_values = ngrams.toarray().sum(axis=0)\n",
    "# list of ngrams\n",
    "vocab = c_vec.vocabulary_\n",
    "df_ngram = pd.DataFrame(sorted([(count_values[i],k) for k,i in vocab.items()], reverse=True)\n",
    "            ).rename(columns={0: 'frequency', 1:'bigram/trigram'})"
   ]
  },
  {
   "cell_type": "code",
   "execution_count": null,
   "id": "6803cbe2",
   "metadata": {},
   "outputs": [],
   "source": [
    "df_ngram.head(10).plot(x='bigram/trigram', y='frequency', kind='bar', figsize=(15, 7), color = 'blue')\n",
    "plt.title(\"Most Frequently Occuring positive sentiments Words - Top 10\")"
   ]
  },
  {
   "cell_type": "code",
   "execution_count": null,
   "id": "1f05fdbc",
   "metadata": {},
   "outputs": [],
   "source": [
    "stopwords = nltk.corpus.stopwords.words('english')\n",
    "newStopWords = ['https','NJDevils','nan','game','CO']\n",
    "stopwords.extend(newStopWords)\n",
    "## good and great removed because they were included in negative sentiment\n",
    "pos = \" \".join(review for review in positive.clean_CONTENT_TEXT)\n",
    "wordcloud2 = WordCloud(stopwords=stopwords).generate(pos)\n",
    "plt.imshow(wordcloud2, interpolation='bilinear')\n",
    "plt.axis(\"off\")\n",
    "plt.show()"
   ]
  },
  {
   "cell_type": "code",
   "execution_count": null,
   "id": "d8e56d1a",
   "metadata": {
    "scrolled": false
   },
   "outputs": [],
   "source": [
    "import nltk\n",
    "from sklearn.feature_extraction.text import CountVectorizer\n",
    "\n",
    "df_rna = df[df['clean_CONTENT_TEXT'].notna()]\n",
    "stopwords = nltk.corpus.stopwords.words('english')\n",
    "newStopWords = ['https','njdevils','nan','co']\n",
    "stopwords.extend(newStopWords)\n",
    "\n",
    "\n",
    "cv = CountVectorizer(stop_words = stopwords)\n",
    "words = cv.fit_transform(negative.clean_CONTENT_TEXT)\n",
    "\n",
    "sum_words = words.sum(axis=0)\n",
    "\n",
    "words_freq = [(word, sum_words[0, i]) for word, i in cv.vocabulary_.items()]\n",
    "words_freq = sorted(words_freq, key = lambda x: x[1], reverse = True)\n",
    "\n",
    "frequency = pd.DataFrame(words_freq, columns=['word', 'freq'])\n",
    "\n",
    "frequency.head(10).plot(x='word', y='freq', kind='bar', figsize=(15, 7), color = 'blue')\n",
    "plt.title(\"Most Frequently Occuring Negative sentiment Words - Top 10\")"
   ]
  },
  {
   "cell_type": "code",
   "execution_count": null,
   "id": "8fd36d6a",
   "metadata": {},
   "outputs": [],
   "source": [
    "from sklearn.feature_extraction.text import CountVectorizer\n",
    "c_vec = CountVectorizer(stop_words=stopwords, ngram_range=(2,3))\n",
    "# matrix of ngrams\n",
    "ngrams = c_vec.fit_transform(negative.clean_CONTENT_TEXT)\n",
    "# count frequency of ngrams\n",
    "count_values = ngrams.toarray().sum(axis=0)\n",
    "# list of ngrams\n",
    "vocab = c_vec.vocabulary_\n",
    "df_ngram = pd.DataFrame(sorted([(count_values[i],k) for k,i in vocab.items()], reverse=True)\n",
    "            ).rename(columns={0: 'frequency', 1:'bigram/trigram'})"
   ]
  },
  {
   "cell_type": "code",
   "execution_count": null,
   "id": "b9cedf25",
   "metadata": {},
   "outputs": [],
   "source": [
    "df_ngram.head(10).plot(x='bigram/trigram', y='frequency', kind='bar', figsize=(15, 7), color = 'blue')\n",
    "plt.title(\"Most Frequently Occuring Words for Negative sentiment- Top 10\")"
   ]
  },
  {
   "cell_type": "code",
   "execution_count": null,
   "id": "34d3df13",
   "metadata": {},
   "outputs": [],
   "source": [
    "stopwords = nltk.corpus.stopwords.words('english')\n",
    "newStopWords = ['https','NJDevils','nan','game','CO']\n",
    "stopwords.extend(newStopWords)\n",
    "## good and great removed because they were included in negative sentiment\n",
    "pos = \" \".join(review for review in negative.clean_CONTENT_TEXT)\n",
    "wordcloud2 = WordCloud(stopwords=stopwords).generate(pos)\n",
    "plt.imshow(wordcloud2, interpolation='bilinear')\n",
    "plt.axis(\"off\")\n",
    "plt.show()"
   ]
  },
  {
   "cell_type": "code",
   "execution_count": null,
   "id": "bbd11a01",
   "metadata": {
    "scrolled": false
   },
   "outputs": [],
   "source": [
    "df['sentiment_analysis'] = df['sentiment'].replace({0 : 'negative'})\n",
    "df['sentiment_analysis'] = df['sentiment'].replace({1 : 'positive'})\n",
    "fig = px.histogram(df, x=\"sentiment_analysis\")\n",
    "fig.update_traces(marker_color=\"indianred\",marker_line_color='rgb(8,48,107)',\n",
    "                  marker_line_width=1.5)\n",
    "fig.update_layout(title_text='CONTENT_TEXT Sentiment')\n",
    "fig.show()"
   ]
  }
 ],
 "metadata": {
  "kernelspec": {
   "display_name": "Python 3 (ipykernel)",
   "language": "python",
   "name": "python3"
  },
  "language_info": {
   "codemirror_mode": {
    "name": "ipython",
    "version": 3
   },
   "file_extension": ".py",
   "mimetype": "text/x-python",
   "name": "python",
   "nbconvert_exporter": "python",
   "pygments_lexer": "ipython3",
   "version": "3.9.7"
  }
 },
 "nbformat": 4,
 "nbformat_minor": 5
}
